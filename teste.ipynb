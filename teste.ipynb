{
 "cells": [
  {
   "cell_type": "code",
   "execution_count": 1,
   "metadata": {},
   "outputs": [
    {
     "name": "stderr",
     "output_type": "stream",
     "text": [
      "C:\\Users\\daiana.sales\\AppData\\Local\\Temp\\ipykernel_18540\\2462962269.py:1: DeprecationWarning: \n",
      "Pyarrow will become a required dependency of pandas in the next major release of pandas (pandas 3.0),\n",
      "(to allow more performant data types, such as the Arrow string type, and better interoperability with other libraries)\n",
      "but was not found to be installed on your system.\n",
      "If this would cause problems for you,\n",
      "please provide us feedback at https://github.com/pandas-dev/pandas/issues/54466\n",
      "        \n",
      "  import pandas as pd\n"
     ]
    }
   ],
   "source": [
    "import pandas as pd\n",
    "from busca_periodo import parse_csv_results, busca_documentos\n",
    "from datetime import date\n",
    "import openpyxl\n",
    "import matplotlib"
   ]
  },
  {
   "cell_type": "code",
   "execution_count": null,
   "metadata": {},
   "outputs": [],
   "source": [
    "inicio = date(2023, 1, 1)\n",
    "fim = date(2023, 12, 31)\n",
    "\n",
    "documentos = busca_documentos(\n",
    "    doc_type = 'REMA - Empréstimo de Materiais ou Ex. Geológicos',\n",
    "    period=(inicio, fim)\n",
    ")\n",
    "\n",
    "documentos"
   ]
  },
  {
   "cell_type": "code",
   "execution_count": null,
   "metadata": {},
   "outputs": [],
   "source": [
    "df = parse_csv_results(documentos)\n",
    "df.info()"
   ]
  },
  {
   "cell_type": "code",
   "execution_count": null,
   "metadata": {},
   "outputs": [],
   "source": [
    "df.iloc[:,37] = df.iloc[:,37].astype('str').apply(lambda x: x.lower()) "
   ]
  },
  {
   "cell_type": "code",
   "execution_count": 47,
   "metadata": {},
   "outputs": [],
   "source": [
    "df.iloc[:,37] = (\n",
    "    df.iloc[:,37] \n",
    "# .replace(['geremi', '/', '-', 'sureg','/dimini/derem', 'residência de '], '') \n",
    "    .replace(['lamin', 'sureg-sp', 'sp', 'sureg-sp/geremi'], 'sp') \n",
    "    .replace(['geremi-be', 'sureg-be', 'sureg be','sureg_be','superintendência regional de belém','be', 'anm (dnpm)'], 'pa') \n",
    "    .replace(['geremi-bh', 'sureg-bh','belo horizonte','sureg bh', 'bh', 'digeco', 'diemge', 'geremi sureg-be', 'litoteca regional de caeté'], 'mg') \n",
    "    .replace(['geremi-pa', 'sureg-pa','porto alegre', \n",
    "          'superintendência regional de Porto Alegre', \n",
    "          'universidade federal do rio grande do sul', \n",
    "          'unisinos','ufrgs', 'rs', 'mining venture'], 'rs') \n",
    "    .replace(['xxxxx','derem','nacional','0','divisão de geodinâmica - digeod'],'go') \n",
    "    .replace(['sureg-ma', 'geremi-ma', 'manaus'], 'ma') \n",
    "    .replace(['fortaleza','refo'], 'ce') \n",
    "    .replace(['sureg-go'],'go') \n",
    "    .replace(['residência de porto velho','porto velho', 'repo'], 'ro') \n",
    "    .replace(['sureg-re/dimini/derem','digeom'], 'rn') \n",
    "    .replace(['sureg-sa'], 'ba')\n",
    "    )"
   ]
  },
  {
   "cell_type": "code",
   "execution_count": null,
   "metadata": {},
   "outputs": [],
   "source": [
    "material = (pd.DataFrame(df.iloc[:,40:50]\n",
    "                .drop(\"Testemunhos de Sondagem (em metros)\", axis=\"columns\")\n",
    "                .replace(r'[\\-\\w]+',0,regex=True)\n",
    "                .convert_dtypes()\n",
    "                .sum(),\n",
    "            columns=[\"qtde\"])\n",
    "            .assign(custo=lambda df: df.qtde * 99.63))\n",
    "material\n",
    "\n"
   ]
  },
  {
   "cell_type": "code",
   "execution_count": null,
   "metadata": {},
   "outputs": [],
   "source": [
    "testemunhos = ( \n",
    "    pd.DataFrame( \n",
    "        df.iloc[:,[43]].sum(), \n",
    "        columns=[\"qtde\"] \n",
    "    ) \n",
    "    .assign(custo=lambda df: df.qtde * 132.84) \n",
    ") \n",
    "testemunhos"
   ]
  },
  {
   "cell_type": "code",
   "execution_count": 51,
   "metadata": {},
   "outputs": [
    {
     "name": "stderr",
     "output_type": "stream",
     "text": [
      "C:\\Users\\daiana.sales\\AppData\\Local\\Temp\\ipykernel_27928\\2898219651.py:1: FutureWarning: The behavior of pd.concat with len(keys) != len(objs) is deprecated. In a future version this will raise instead of truncating to the smaller of the two sequences\n",
      "  custos_materiais = pd.concat([material, testemunhos], keys = 'custo')\n"
     ]
    },
    {
     "data": {
      "text/html": [
       "<div>\n",
       "<style scoped>\n",
       "    .dataframe tbody tr th:only-of-type {\n",
       "        vertical-align: middle;\n",
       "    }\n",
       "\n",
       "    .dataframe tbody tr th {\n",
       "        vertical-align: top;\n",
       "    }\n",
       "\n",
       "    .dataframe thead th {\n",
       "        text-align: right;\n",
       "    }\n",
       "</style>\n",
       "<table border=\"1\" class=\"dataframe\">\n",
       "  <thead>\n",
       "    <tr style=\"text-align: right;\">\n",
       "      <th></th>\n",
       "      <th></th>\n",
       "      <th>qtde</th>\n",
       "      <th>custo</th>\n",
       "    </tr>\n",
       "  </thead>\n",
       "  <tbody>\n",
       "    <tr>\n",
       "      <th rowspan=\"9\" valign=\"top\">c</th>\n",
       "      <th>Alíquotas Geoquímicas</th>\n",
       "      <td>388.0</td>\n",
       "      <td>39366.48</td>\n",
       "    </tr>\n",
       "    <tr>\n",
       "      <th>Material de Referência</th>\n",
       "      <td>0.0</td>\n",
       "      <td>0.0</td>\n",
       "    </tr>\n",
       "    <tr>\n",
       "      <th>Rochas</th>\n",
       "      <td>354.0</td>\n",
       "      <td>35916.84</td>\n",
       "    </tr>\n",
       "    <tr>\n",
       "      <th>Solos</th>\n",
       "      <td>0.0</td>\n",
       "      <td>0.0</td>\n",
       "    </tr>\n",
       "    <tr>\n",
       "      <th>Sedimentos de Corrente</th>\n",
       "      <td>1.0</td>\n",
       "      <td>101.46</td>\n",
       "    </tr>\n",
       "    <tr>\n",
       "      <th>Concentrados de Batéia</th>\n",
       "      <td>0.0</td>\n",
       "      <td>0.0</td>\n",
       "    </tr>\n",
       "    <tr>\n",
       "      <th>Lâminas Petrográficas</th>\n",
       "      <td>86.0</td>\n",
       "      <td>8725.56</td>\n",
       "    </tr>\n",
       "    <tr>\n",
       "      <th>Seções Polidas</th>\n",
       "      <td>0.0</td>\n",
       "      <td>0.0</td>\n",
       "    </tr>\n",
       "    <tr>\n",
       "      <th>Cadernetas de Campo</th>\n",
       "      <td>44.0</td>\n",
       "      <td>4464.24</td>\n",
       "    </tr>\n",
       "    <tr>\n",
       "      <th>u</th>\n",
       "      <th>Testemunhos de Sondagem (em metros)</th>\n",
       "      <td>2827.37</td>\n",
       "      <td>383928.5723</td>\n",
       "    </tr>\n",
       "  </tbody>\n",
       "</table>\n",
       "</div>"
      ],
      "text/plain": [
       "                                          qtde        custo\n",
       "c Alíquotas Geoquímicas                  388.0     39366.48\n",
       "  Material de Referência                   0.0          0.0\n",
       "  Rochas                                 354.0     35916.84\n",
       "  Solos                                    0.0          0.0\n",
       "  Sedimentos de Corrente                   1.0       101.46\n",
       "  Concentrados de Batéia                   0.0          0.0\n",
       "  Lâminas Petrográficas                   86.0      8725.56\n",
       "  Seções Polidas                           0.0          0.0\n",
       "  Cadernetas de Campo                     44.0      4464.24\n",
       "u Testemunhos de Sondagem (em metros)  2827.37  383928.5723"
      ]
     },
     "execution_count": 51,
     "metadata": {},
     "output_type": "execute_result"
    }
   ],
   "source": [
    "custos_materiais = pd.concat([material, testemunhos], keys = 'custo') \n",
    "custos_materiais.to_csv('custos.csv')\n",
    "custos_materiais"
   ]
  },
  {
   "cell_type": "code",
   "execution_count": 52,
   "metadata": {},
   "outputs": [],
   "source": [
    "_custos = custos_materiais.style.format({\"custo\": 'R$ {:0.2f}'}) \n",
    "_custos.to_excel('rema.xlsx')\n",
    "\n"
   ]
  },
  {
   "cell_type": "code",
   "execution_count": 53,
   "metadata": {},
   "outputs": [
    {
     "ename": "AttributeError",
     "evalue": "'Styler' object has no attribute 'iloc'",
     "output_type": "error",
     "traceback": [
      "\u001b[1;31m---------------------------------------------------------------------------\u001b[0m",
      "\u001b[1;31mAttributeError\u001b[0m                            Traceback (most recent call last)",
      "Cell \u001b[1;32mIn[53], line 1\u001b[0m\n\u001b[1;32m----> 1\u001b[0m \u001b[43m_custos\u001b[49m\u001b[38;5;241;43m.\u001b[39;49m\u001b[43miloc\u001b[49m[:,\u001b[38;5;124m'\u001b[39m\u001b[38;5;124mcusto\u001b[39m\u001b[38;5;124m'\u001b[39m]\u001b[38;5;241m.\u001b[39msum()\n",
      "\u001b[1;31mAttributeError\u001b[0m: 'Styler' object has no attribute 'iloc'"
     ]
    }
   ],
   "source": []
  },
  {
   "cell_type": "code",
   "execution_count": null,
   "metadata": {},
   "outputs": [],
   "source": [
    "####################################################################### \n",
    "## Custos dos materiais  \n",
    "####################################################################### \n",
    " \n",
    "material = ( \n",
    "    pd.DataFrame( \n",
    "        df.iloc[:,40:50] \n",
    "            .drop(\"Testemunhos de Sondagem (em metros)\", axis=\"columns\") \n",
    "            .replace(r'[\\-\\w]+',0,regex=True) \n",
    "            .convert_dtypes() \n",
    "            .sum(), \n",
    "        columns=[\"qtde\"] \n",
    "    ) \n",
    "    .assign(custo=lambda df: df.qtde * 101.46) \n",
    ") \n",
    " \n",
    "testemunhos = ( \n",
    "    pd.DataFrame( \n",
    "        df.iloc[:,[43]].sum(), \n",
    "        columns=[\"qtde\"] \n",
    "    ) \n",
    "    .assign(custo=lambda df: df.qtde * 135.79) \n",
    ") \n",
    " \n",
    "custos_materiais = pd.concat([material, testemunhos], keys = \"custo\") \n",
    " \n",
    "#_custos = custos_materiais.style.format({\"qtde\":'{:0.2f}'})\n",
    "_custos = custos_materiais.style.format({\"custo R$\": 'R$ {:0.2f}'}) \n",
    "\n",
    "_custos"
   ]
  },
  {
   "cell_type": "code",
   "execution_count": 48,
   "metadata": {},
   "outputs": [
    {
     "name": "stdout",
     "output_type": "stream",
     "text": [
      "Tipo de Solicitante\n",
      "Interno    29\n",
      "Externo     4\n",
      "Name: count, dtype: int64\n",
      "Unidade Executora\n",
      "pa    18\n",
      "mg     6\n",
      "ce     2\n",
      "df     2\n",
      "ro     2\n",
      "rs     1\n",
      "go     1\n",
      "ba     1\n",
      "Name: count, dtype: int64\n"
     ]
    }
   ],
   "source": [
    "print (df['Tipo de Solicitante'].value_counts())\n",
    "print (df['Unidade Executora'].value_counts())"
   ]
  },
  {
   "cell_type": "code",
   "execution_count": 25,
   "metadata": {},
   "outputs": [],
   "source": [
    "df.to_csv('rema.csv');"
   ]
  },
  {
   "cell_type": "code",
   "execution_count": 45,
   "metadata": {},
   "outputs": [
    {
     "data": {
      "text/plain": [
       "<Axes: ylabel='Métodos Analíticos'>"
      ]
     },
     "execution_count": 45,
     "metadata": {},
     "output_type": "execute_result"
    },
    {
     "data": {
      "image/png": "[encoded data removed]",
      "text/plain": [
       "<Figure size 640x480 with 1 Axes>"
      ]
     },
     "metadata": {},
     "output_type": "display_data"
    }
   ],
   "source": [
    "ylabel= 'Métodos Analíticos' \n",
    "( \n",
    "    df.reset_index() \n",
    "    .melt(id_vars=[\"index\"], value_vars=df.columns[6:22],var_name = ylabel) \n",
    "    .query('value == True') \n",
    "    .loc[:, ylabel] \n",
    "#    .squeeze() \n",
    "    .value_counts(ascending=True) \n",
    "    .plot(kind='barh') \n",
    ")\n",
    "\n",
    "# ylabel= 'Finalidade' \n",
    "# ( \n",
    "#     df.reset_index() \n",
    "#     .melt(id_vars=[\"index\"], value_vars=df.columns[22:32],var_name = ylabel) \n",
    "#     .query('value == True') \n",
    "#     .loc[:, ylabel] \n",
    "# #    .squeeze() \n",
    "#     .value_counts(ascending=True) \n",
    "#     .plot(kind='barh') \n",
    "# )\n",
    "\n",
    "#df.iloc[:, 0].value_counts().plot.pie()"
   ]
  },
  {
   "cell_type": "markdown",
   "metadata": {},
   "source": [
    "Fazendo o para a REVI"
   ]
  },
  {
   "cell_type": "code",
   "execution_count": null,
   "metadata": {},
   "outputs": [],
   "source": [
    "inicio = date(2023, 1, 1)\n",
    "fim = date(2023, 12, 31)\n",
    "\n",
    "documentos_revi = busca_documentos(\n",
    "    doc_type = 'REVI - Visitação à Rede de Litotecas',\n",
    "    period=(inicio, fim)\n",
    ")\n",
    "\n",
    "documentos_revi"
   ]
  },
  {
   "cell_type": "code",
   "execution_count": null,
   "metadata": {},
   "outputs": [],
   "source": [
    "revi = parse_csv_results(documentos_revi)\n",
    "revi.info()"
   ]
  },
  {
   "cell_type": "code",
   "execution_count": null,
   "metadata": {},
   "outputs": [],
   "source": [
    "from datetime import datetime, timedelta"
   ]
  },
  {
   "cell_type": "code",
   "execution_count": null,
   "metadata": {},
   "outputs": [],
   "source": [
    "revi['Data Inicial'] = pd.to_datetime(revi['Data Inicial'].astype(str), format='%d/%m/%Y')\n"
   ]
  },
  {
   "cell_type": "code",
   "execution_count": null,
   "metadata": {},
   "outputs": [],
   "source": [
    "revi['Data Final'] = pd.to_datetime(revi['Data Final'].astype(str), format='%d/%m/%Y')"
   ]
  },
  {
   "cell_type": "code",
   "execution_count": null,
   "metadata": {},
   "outputs": [],
   "source": [
    "revi['duracao'] = ((revi.iloc[:,6]) - (revi.iloc[:,5])).dt.days"
   ]
  },
  {
   "cell_type": "code",
   "execution_count": null,
   "metadata": {},
   "outputs": [],
   "source": [
    "revi['custo'] = revi['duracao']*797.04*2\n"
   ]
  },
  {
   "cell_type": "code",
   "execution_count": null,
   "metadata": {},
   "outputs": [],
   "source": [
    "revi['custo'].sum()"
   ]
  },
  {
   "cell_type": "code",
   "execution_count": null,
   "metadata": {},
   "outputs": [],
   "source": [
    "revi['Número de Participantes'].sum()"
   ]
  },
  {
   "cell_type": "code",
   "execution_count": null,
   "metadata": {},
   "outputs": [],
   "source": [
    "revi['Tipo de Visitação'].value_counts()"
   ]
  },
  {
   "cell_type": "code",
   "execution_count": null,
   "metadata": {},
   "outputs": [],
   "source": [
    "revi['Litoteca de Interesse'].value_counts()"
   ]
  },
  {
   "cell_type": "code",
   "execution_count": null,
   "metadata": {},
   "outputs": [],
   "source": [
    "revi.info()"
   ]
  },
  {
   "cell_type": "code",
   "execution_count": 2,
   "metadata": {},
   "outputs": [
    {
     "name": "stderr",
     "output_type": "stream",
     "text": [
      "INFO:root:Autenticando como daiana.sales\n",
      "INFO:root:Preenchendo o formulário de pesquisa\n",
      "INFO:root:Evento de click disparado: javascript:navegar('10')\n",
      "INFO:root:Paginação concluída.\n"
     ]
    },
    {
     "data": {
      "text/plain": [
       "'d:\\\\Daiana Sales\\\\auto-sei-edu\\\\extraidos\\\\processos.csv'"
      ]
     },
     "execution_count": 2,
     "metadata": {},
     "output_type": "execute_result"
    }
   ],
   "source": [
    "inicio = date(2023, 1, 1)\n",
    "fim = date(2023, 12, 31)\n",
    "\n",
    "documentos_ruse = busca_documentos(\n",
    "    doc_type = 'RUSE - Utilização das Salas/Setores das Litotecas',\n",
    "    period=(inicio, fim)\n",
    ")\n",
    "\n",
    "documentos_ruse"
   ]
  },
  {
   "cell_type": "code",
   "execution_count": 3,
   "metadata": {},
   "outputs": [
    {
     "name": "stderr",
     "output_type": "stream",
     "text": [
      "d:\\Daiana Sales\\auto-sei-edu\\busca_periodo.py:227: FutureWarning: errors='ignore' is deprecated and will raise in a future version. Use to_numeric without passing `errors` and catch exceptions explicitly instead\n",
      "  .apply(lambda x: pd.to_numeric(x.str.replace(\",\", \".\"), errors=\"ignore\"))\n",
      "d:\\Daiana Sales\\auto-sei-edu\\busca_periodo.py:228: FutureWarning: Downcasting behavior in `replace` is deprecated and will be removed in a future version. To retain the old behavior, explicitly call `result.infer_objects(copy=False)`. To opt-in to the future behavior, set `pd.set_option('future.no_silent_downcasting', True)`\n",
      "  .apply(lambda x: x.replace(\"Sim\", True).replace(\"Não\", False))\n"
     ]
    },
    {
     "name": "stdout",
     "output_type": "stream",
     "text": [
      "<class 'pandas.core.frame.DataFrame'>\n",
      "Index: 10 entries, 0 to 0\n",
      "Data columns (total 34 columns):\n",
      " #   Column                                                            Non-Null Count  Dtype  \n",
      "---  ------                                                            --------------  -----  \n",
      " 0   Tipo de Solicitante                                               10 non-null     object \n",
      " 1   Nome do Solicitante                                               10 non-null     object \n",
      " 2   Organização/Unidade                                               10 non-null     object \n",
      " 3   E-mail                                                            10 non-null     object \n",
      " 4   Telefone (com DDD)                                                10 non-null     object \n",
      " 5   Litoteca de Interesse                                             10 non-null     object \n",
      " 6   Cursos                                                            10 non-null     bool   \n",
      " 7   Workshop                                                          10 non-null     bool   \n",
      " 8   Reuniões                                                          10 non-null     bool   \n",
      " 9   Palestras                                                         10 non-null     bool   \n",
      " 10  Treinamento                                                       10 non-null     bool   \n",
      " 11  Inspeção                                                          10 non-null     bool   \n",
      " 12  Descrição                                                         10 non-null     bool   \n",
      " 13  Amostragem                                                        10 non-null     bool   \n",
      " 14  Análise In Loco                                                   10 non-null     bool   \n",
      " 15  Data Inicial                                                      10 non-null     object \n",
      " 16  Data Final                                                        10 non-null     object \n",
      " 17  Número de Participantes                                           10 non-null     int64  \n",
      " 18  Finalidade (descrever brevemente a atividade a ser desenvolvida)  10 non-null     object \n",
      " 19  Nome do Projeto                                                   10 non-null     object \n",
      " 20  Ano do Projeto                                                    10 non-null     object \n",
      " 21  Centro de Custo do Projeto                                        10 non-null     object \n",
      " 22  SGP                                                               10 non-null     object \n",
      " 23  Lote                                                              10 non-null     object \n",
      " 24  Requisição de Análise (RA)                                        10 non-null     object \n",
      " 25  Alíquotas Geoquímicas                                             10 non-null     int64  \n",
      " 26  Rochas                                                            10 non-null     int64  \n",
      " 27  Testemunhos de Sondagem (intervalo em metros)                     10 non-null     float64\n",
      " 28  Solos                                                             10 non-null     int64  \n",
      " 29  Sedimentos de Corrente                                            10 non-null     int64  \n",
      " 30  Concentrados de Batéia                                            10 non-null     int64  \n",
      " 31  Lâminas Petrográficas                                             10 non-null     int64  \n",
      " 32  Seções Polidas                                                    10 non-null     int64  \n",
      " 33  Cadernetas de Campo                                               10 non-null     int64  \n",
      "dtypes: bool(9), float64(1), int64(9), object(15)\n",
      "memory usage: 2.1+ KB\n"
     ]
    }
   ],
   "source": [
    "ruse = parse_csv_results(documentos_ruse)\n",
    "ruse.info()"
   ]
  },
  {
   "cell_type": "code",
   "execution_count": 4,
   "metadata": {},
   "outputs": [],
   "source": [
    "ruse['Data Inicial'] = pd.to_datetime(ruse['Data Inicial'].astype(str), format='%d/%m/%Y')\n",
    "ruse['Data Final'] = pd.to_datetime(ruse['Data Final'].astype(str), format='%d/%m/%Y')\n",
    "ruse['duracao'] = (pd.to_datetime(ruse['Data Final']) - pd.to_datetime(ruse['Data Inicial'])).dt.days\n"
   ]
  },
  {
   "cell_type": "code",
   "execution_count": null,
   "metadata": {},
   "outputs": [],
   "source": [
    "ruse['custo'] = ruse['duracao']*797.04*2"
   ]
  },
  {
   "cell_type": "code",
   "execution_count": 5,
   "metadata": {},
   "outputs": [
    {
     "data": {
      "text/plain": [
       "0       12\n",
       "0        0\n",
       "0     2546\n",
       "0    27749\n",
       "0       12\n",
       "0       13\n",
       "0       19\n",
       "0        0\n",
       "0        5\n",
       "0        0\n",
       "Name: duracao, dtype: int64"
      ]
     },
     "execution_count": 5,
     "metadata": {},
     "output_type": "execute_result"
    }
   ],
   "source": [
    "ruse['duracao']"
   ]
  },
  {
   "cell_type": "code",
   "execution_count": null,
   "metadata": {},
   "outputs": [],
   "source": [
    "ruse['custo'].sum()"
   ]
  },
  {
   "cell_type": "code",
   "execution_count": null,
   "metadata": {},
   "outputs": [],
   "source": [
    "print (revi['duracao'].sum())\n",
    "print (ruse['duracao'].sum())\n",
    "print (ruse['Litoteca de Interesse'].value_counts())\n",
    "print (ruse['Tipo de Solicitante'].value_counts())\n",
    "print (ruse['Número de Participantes'].sum())\n"
   ]
  },
  {
   "cell_type": "code",
   "execution_count": 3,
   "metadata": {},
   "outputs": [
    {
     "name": "stderr",
     "output_type": "stream",
     "text": [
      "INFO:root:Autenticando como daiana.sales\n",
      "INFO:root:Preenchendo o formulário de pesquisa\n"
     ]
    },
    {
     "ename": "NoSuchElementException",
     "evalue": "Message: no such element: Unable to locate element: {\"method\":\"xpath\",\"selector\":\"//*[@id=\"txtDataInicio\"]\"}\n  (Session info: chrome=122.0.6261.96); For documentation on this error, please visit: https://www.selenium.dev/documentation/webdriver/troubleshooting/errors#no-such-element-exception\nStacktrace:\n\tGetHandleVerifier [0x00007FF6470DAD32+56930]\n\t(No symbol) [0x00007FF64704F632]\n\t(No symbol) [0x00007FF646F042E5]\n\t(No symbol) [0x00007FF646F498ED]\n\t(No symbol) [0x00007FF646F49A2C]\n\t(No symbol) [0x00007FF646F8A967]\n\t(No symbol) [0x00007FF646F6BCDF]\n\t(No symbol) [0x00007FF646F881E2]\n\t(No symbol) [0x00007FF646F6BA43]\n\t(No symbol) [0x00007FF646F3D438]\n\t(No symbol) [0x00007FF646F3E4D1]\n\tGetHandleVerifier [0x00007FF647456ABD+3709933]\n\tGetHandleVerifier [0x00007FF6474AFFFD+4075821]\n\tGetHandleVerifier [0x00007FF6474A818F+4043455]\n\tGetHandleVerifier [0x00007FF647179766+706710]\n\t(No symbol) [0x00007FF64705B90F]\n\t(No symbol) [0x00007FF647056AF4]\n\t(No symbol) [0x00007FF647056C4C]\n\t(No symbol) [0x00007FF647046904]\n\tBaseThreadInitThunk [0x00007FFEA8D07344+20]\n\tRtlUserThreadStart [0x00007FFEA8FE26B1+33]\n",
     "output_type": "error",
     "traceback": [
      "\u001b[1;31m---------------------------------------------------------------------------\u001b[0m",
      "\u001b[1;31mNoSuchElementException\u001b[0m                    Traceback (most recent call last)",
      "Cell \u001b[1;32mIn[3], line 4\u001b[0m\n\u001b[0;32m      1\u001b[0m inicio \u001b[38;5;241m=\u001b[39m date(\u001b[38;5;241m2023\u001b[39m, \u001b[38;5;241m1\u001b[39m, \u001b[38;5;241m1\u001b[39m)\n\u001b[0;32m      2\u001b[0m fim \u001b[38;5;241m=\u001b[39m date(\u001b[38;5;241m2023\u001b[39m, \u001b[38;5;241m12\u001b[39m, \u001b[38;5;241m31\u001b[39m)\n\u001b[1;32m----> 4\u001b[0m documentos_rime \u001b[38;5;241m=\u001b[39m \u001b[43mbusca_documentos\u001b[49m\u001b[43m(\u001b[49m\n\u001b[0;32m      5\u001b[0m \u001b[43m    \u001b[49m\u001b[43mdoc_type\u001b[49m\u001b[43m \u001b[49m\u001b[38;5;241;43m=\u001b[39;49m\u001b[43m \u001b[49m\u001b[38;5;124;43m'\u001b[39;49m\u001b[38;5;124;43mRIME - Incorporação de Materiais ou Ex. Geológicos\u001b[39;49m\u001b[38;5;124;43m'\u001b[39;49m\u001b[43m,\u001b[49m\n\u001b[0;32m      6\u001b[0m \u001b[43m    \u001b[49m\u001b[43mperiod\u001b[49m\u001b[38;5;241;43m=\u001b[39;49m\u001b[43m(\u001b[49m\u001b[43minicio\u001b[49m\u001b[43m,\u001b[49m\u001b[43m \u001b[49m\u001b[43mfim\u001b[49m\u001b[43m)\u001b[49m\n\u001b[0;32m      7\u001b[0m \u001b[43m)\u001b[49m\n",
      "File \u001b[1;32md:\\Daiana Sales\\auto-sei-edu\\busca_periodo.py:107\u001b[0m, in \u001b[0;36mbusca_documentos\u001b[1;34m(url, doc_type, period, output_dir, charset, passwordfile)\u001b[0m\n\u001b[0;32m    104\u001b[0m     date_mask \u001b[38;5;241m=\u001b[39m \u001b[38;5;124mr\u001b[39m\u001b[38;5;124m\"\u001b[39m\u001b[38;5;132;01m%d\u001b[39;00m\u001b[38;5;124m/\u001b[39m\u001b[38;5;124m%\u001b[39m\u001b[38;5;124mm/\u001b[39m\u001b[38;5;124m%\u001b[39m\u001b[38;5;124mY\u001b[39m\u001b[38;5;124m\"\u001b[39m        \n\u001b[0;32m    106\u001b[0m     driver\u001b[38;5;241m.\u001b[39mimplicitly_wait(\u001b[38;5;241m0.5\u001b[39m)\n\u001b[1;32m--> 107\u001b[0m     \u001b[43mdriver\u001b[49m\u001b[38;5;241;43m.\u001b[39;49m\u001b[43mfind_element\u001b[49m\u001b[43m(\u001b[49m\u001b[38;5;124;43m\"\u001b[39;49m\u001b[38;5;124;43mxpath\u001b[39;49m\u001b[38;5;124;43m\"\u001b[39;49m\u001b[43m,\u001b[49m\u001b[43m \u001b[49m\u001b[38;5;124;43m'\u001b[39;49m\u001b[38;5;124;43m//*[@id=\u001b[39;49m\u001b[38;5;124;43m\"\u001b[39;49m\u001b[38;5;124;43mtxtDataInicio\u001b[39;49m\u001b[38;5;124;43m\"\u001b[39;49m\u001b[38;5;124;43m]\u001b[39;49m\u001b[38;5;124;43m'\u001b[39;49m\u001b[43m)\u001b[49m\u001b[38;5;241m.\u001b[39msend_keys(start_date\u001b[38;5;241m.\u001b[39mstrftime(date_mask))\n\u001b[0;32m    108\u001b[0m     driver\u001b[38;5;241m.\u001b[39mfind_element(\u001b[38;5;124m\"\u001b[39m\u001b[38;5;124mxpath\u001b[39m\u001b[38;5;124m\"\u001b[39m, \u001b[38;5;124m'\u001b[39m\u001b[38;5;124m//*[@id=\u001b[39m\u001b[38;5;124m\"\u001b[39m\u001b[38;5;124mtxtDataFim\u001b[39m\u001b[38;5;124m\"\u001b[39m\u001b[38;5;124m]\u001b[39m\u001b[38;5;124m'\u001b[39m)\u001b[38;5;241m.\u001b[39msend_keys(end_date\u001b[38;5;241m.\u001b[39mstrftime(date_mask))\n\u001b[0;32m    110\u001b[0m \u001b[38;5;66;03m# TODO: capturar na página de pesquisa a quantidade de documentos achados\u001b[39;00m\n\u001b[0;32m    111\u001b[0m \n\u001b[0;32m    112\u001b[0m \u001b[38;5;66;03m# getting files\u001b[39;00m\n",
      "File \u001b[1;32md:\\Daiana Sales\\auto-sei-edu\\.venv\\Lib\\site-packages\\selenium\\webdriver\\remote\\webdriver.py:741\u001b[0m, in \u001b[0;36mWebDriver.find_element\u001b[1;34m(self, by, value)\u001b[0m\n\u001b[0;32m    738\u001b[0m     by \u001b[38;5;241m=\u001b[39m By\u001b[38;5;241m.\u001b[39mCSS_SELECTOR\n\u001b[0;32m    739\u001b[0m     value \u001b[38;5;241m=\u001b[39m \u001b[38;5;124mf\u001b[39m\u001b[38;5;124m'\u001b[39m\u001b[38;5;124m[name=\u001b[39m\u001b[38;5;124m\"\u001b[39m\u001b[38;5;132;01m{\u001b[39;00mvalue\u001b[38;5;132;01m}\u001b[39;00m\u001b[38;5;124m\"\u001b[39m\u001b[38;5;124m]\u001b[39m\u001b[38;5;124m'\u001b[39m\n\u001b[1;32m--> 741\u001b[0m \u001b[38;5;28;01mreturn\u001b[39;00m \u001b[38;5;28;43mself\u001b[39;49m\u001b[38;5;241;43m.\u001b[39;49m\u001b[43mexecute\u001b[49m\u001b[43m(\u001b[49m\u001b[43mCommand\u001b[49m\u001b[38;5;241;43m.\u001b[39;49m\u001b[43mFIND_ELEMENT\u001b[49m\u001b[43m,\u001b[49m\u001b[43m \u001b[49m\u001b[43m{\u001b[49m\u001b[38;5;124;43m\"\u001b[39;49m\u001b[38;5;124;43musing\u001b[39;49m\u001b[38;5;124;43m\"\u001b[39;49m\u001b[43m:\u001b[49m\u001b[43m \u001b[49m\u001b[43mby\u001b[49m\u001b[43m,\u001b[49m\u001b[43m \u001b[49m\u001b[38;5;124;43m\"\u001b[39;49m\u001b[38;5;124;43mvalue\u001b[39;49m\u001b[38;5;124;43m\"\u001b[39;49m\u001b[43m:\u001b[49m\u001b[43m \u001b[49m\u001b[43mvalue\u001b[49m\u001b[43m}\u001b[49m\u001b[43m)\u001b[49m[\u001b[38;5;124m\"\u001b[39m\u001b[38;5;124mvalue\u001b[39m\u001b[38;5;124m\"\u001b[39m]\n",
      "File \u001b[1;32md:\\Daiana Sales\\auto-sei-edu\\.venv\\Lib\\site-packages\\selenium\\webdriver\\remote\\webdriver.py:347\u001b[0m, in \u001b[0;36mWebDriver.execute\u001b[1;34m(self, driver_command, params)\u001b[0m\n\u001b[0;32m    345\u001b[0m response \u001b[38;5;241m=\u001b[39m \u001b[38;5;28mself\u001b[39m\u001b[38;5;241m.\u001b[39mcommand_executor\u001b[38;5;241m.\u001b[39mexecute(driver_command, params)\n\u001b[0;32m    346\u001b[0m \u001b[38;5;28;01mif\u001b[39;00m response:\n\u001b[1;32m--> 347\u001b[0m     \u001b[38;5;28;43mself\u001b[39;49m\u001b[38;5;241;43m.\u001b[39;49m\u001b[43merror_handler\u001b[49m\u001b[38;5;241;43m.\u001b[39;49m\u001b[43mcheck_response\u001b[49m\u001b[43m(\u001b[49m\u001b[43mresponse\u001b[49m\u001b[43m)\u001b[49m\n\u001b[0;32m    348\u001b[0m     response[\u001b[38;5;124m\"\u001b[39m\u001b[38;5;124mvalue\u001b[39m\u001b[38;5;124m\"\u001b[39m] \u001b[38;5;241m=\u001b[39m \u001b[38;5;28mself\u001b[39m\u001b[38;5;241m.\u001b[39m_unwrap_value(response\u001b[38;5;241m.\u001b[39mget(\u001b[38;5;124m\"\u001b[39m\u001b[38;5;124mvalue\u001b[39m\u001b[38;5;124m\"\u001b[39m, \u001b[38;5;28;01mNone\u001b[39;00m))\n\u001b[0;32m    349\u001b[0m     \u001b[38;5;28;01mreturn\u001b[39;00m response\n",
      "File \u001b[1;32md:\\Daiana Sales\\auto-sei-edu\\.venv\\Lib\\site-packages\\selenium\\webdriver\\remote\\errorhandler.py:229\u001b[0m, in \u001b[0;36mErrorHandler.check_response\u001b[1;34m(self, response)\u001b[0m\n\u001b[0;32m    227\u001b[0m         alert_text \u001b[38;5;241m=\u001b[39m value[\u001b[38;5;124m\"\u001b[39m\u001b[38;5;124malert\u001b[39m\u001b[38;5;124m\"\u001b[39m]\u001b[38;5;241m.\u001b[39mget(\u001b[38;5;124m\"\u001b[39m\u001b[38;5;124mtext\u001b[39m\u001b[38;5;124m\"\u001b[39m)\n\u001b[0;32m    228\u001b[0m     \u001b[38;5;28;01mraise\u001b[39;00m exception_class(message, screen, stacktrace, alert_text)  \u001b[38;5;66;03m# type: ignore[call-arg]  # mypy is not smart enough here\u001b[39;00m\n\u001b[1;32m--> 229\u001b[0m \u001b[38;5;28;01mraise\u001b[39;00m exception_class(message, screen, stacktrace)\n",
      "\u001b[1;31mNoSuchElementException\u001b[0m: Message: no such element: Unable to locate element: {\"method\":\"xpath\",\"selector\":\"//*[@id=\"txtDataInicio\"]\"}\n  (Session info: chrome=122.0.6261.96); For documentation on this error, please visit: https://www.selenium.dev/documentation/webdriver/troubleshooting/errors#no-such-element-exception\nStacktrace:\n\tGetHandleVerifier [0x00007FF6470DAD32+56930]\n\t(No symbol) [0x00007FF64704F632]\n\t(No symbol) [0x00007FF646F042E5]\n\t(No symbol) [0x00007FF646F498ED]\n\t(No symbol) [0x00007FF646F49A2C]\n\t(No symbol) [0x00007FF646F8A967]\n\t(No symbol) [0x00007FF646F6BCDF]\n\t(No symbol) [0x00007FF646F881E2]\n\t(No symbol) [0x00007FF646F6BA43]\n\t(No symbol) [0x00007FF646F3D438]\n\t(No symbol) [0x00007FF646F3E4D1]\n\tGetHandleVerifier [0x00007FF647456ABD+3709933]\n\tGetHandleVerifier [0x00007FF6474AFFFD+4075821]\n\tGetHandleVerifier [0x00007FF6474A818F+4043455]\n\tGetHandleVerifier [0x00007FF647179766+706710]\n\t(No symbol) [0x00007FF64705B90F]\n\t(No symbol) [0x00007FF647056AF4]\n\t(No symbol) [0x00007FF647056C4C]\n\t(No symbol) [0x00007FF647046904]\n\tBaseThreadInitThunk [0x00007FFEA8D07344+20]\n\tRtlUserThreadStart [0x00007FFEA8FE26B1+33]\n"
     ]
    }
   ],
   "source": [
    "inicio = date(2023, 1, 1)\n",
    "fim = date(2023, 12, 31)\n",
    "\n",
    "documentos_rime = busca_documentos(\n",
    "    doc_type = 'RIME - Incorporação de Materiais ou Ex. Geológicos',\n",
    "    period=(inicio, fim)\n",
    ")"
   ]
  },
  {
   "cell_type": "code",
   "execution_count": null,
   "metadata": {},
   "outputs": [],
   "source": [
    "ruse = parse_csv_results(documentos_ruse)\n",
    "ruse.info()"
   ]
  },
  {
   "cell_type": "code",
   "execution_count": 4,
   "metadata": {},
   "outputs": [
    {
     "name": "stderr",
     "output_type": "stream",
     "text": [
      "INFO:root:Autenticando como daiana.sales\n",
      "INFO:root:Preenchendo o formulário de pesquisa\n",
      "INFO:root:Evento de click disparado: javascript:navegar('10')\n",
      "INFO:root:Paginação concluída.\n"
     ]
    },
    {
     "data": {
      "text/plain": [
       "'d:\\\\Daiana Sales\\\\auto-sei-edu\\\\extraidos\\\\processos.csv'"
      ]
     },
     "execution_count": 4,
     "metadata": {},
     "output_type": "execute_result"
    }
   ],
   "source": [
    "inicio = date(2024, 1, 1)\n",
    "fim = date(2024, 3, 31)\n",
    "\n",
    "documentos_rame = busca_documentos(\n",
    "    doc_type = 'RAME - Armazenamento na Rede de Litotecas',\n",
    "    period=(inicio, fim)\n",
    ")\n",
    "\n",
    "documentos_rame"
   ]
  },
  {
   "cell_type": "code",
   "execution_count": 5,
   "metadata": {},
   "outputs": [
    {
     "name": "stderr",
     "output_type": "stream",
     "text": [
      "d:\\Daiana Sales\\auto-sei-edu\\busca_periodo.py:227: FutureWarning: errors='ignore' is deprecated and will raise in a future version. Use to_numeric without passing `errors` and catch exceptions explicitly instead\n",
      "  .apply(lambda x: pd.to_numeric(x.str.replace(\",\", \".\"), errors=\"ignore\"))\n",
      "d:\\Daiana Sales\\auto-sei-edu\\busca_periodo.py:228: FutureWarning: Downcasting behavior in `replace` is deprecated and will be removed in a future version. To retain the old behavior, explicitly call `result.infer_objects(copy=False)`. To opt-in to the future behavior, set `pd.set_option('future.no_silent_downcasting', True)`\n",
      "  .apply(lambda x: x.replace(\"Sim\", True).replace(\"Não\", False))\n"
     ]
    },
    {
     "name": "stdout",
     "output_type": "stream",
     "text": [
      "<class 'pandas.core.frame.DataFrame'>\n",
      "Index: 10 entries, 0 to 0\n",
      "Data columns (total 22 columns):\n",
      " #   Column                                                                                                           Non-Null Count  Dtype  \n",
      "---  ------                                                                                                           --------------  -----  \n",
      " 0   Nome do(a) Solicitante                                                                                           10 non-null     object \n",
      " 1   Unidade                                                                                                          10 non-null     object \n",
      " 2   E-mail                                                                                                           10 non-null     object \n",
      " 3   Telefone (com DDD)                                                                                               10 non-null     object \n",
      " 4   Ano do Projeto                                                                                                   10 non-null     int64  \n",
      " 5   Nome do Projeto                                                                                                  10 non-null     object \n",
      " 6   Unidade Executora                                                                                                10 non-null     object \n",
      " 7   Centro de Custo do Projeto                                                                                       10 non-null     int64  \n",
      " 8   Número do SGP                                                                                                    10 non-null     object \n",
      " 9   Requisição de Análise (RA)                                                                                       10 non-null     object \n",
      " 10  Lote                                                                                                             10 non-null     object \n",
      " 11  Quantidade de Lote                                                                                               10 non-null     object \n",
      " 12  Alíquotas Geoquímicas                                                                                            10 non-null     int64  \n",
      " 13  Rochas                                                                                                           10 non-null     int64  \n",
      " 14  Testemunhos de Sondagem (quantidade total dos intervalos em metros)                                              10 non-null     float64\n",
      " 15  Solos                                                                                                            10 non-null     int64  \n",
      " 16  Sedimentos de Corrente                                                                                           10 non-null     int64  \n",
      " 17  Concentrados de Batéia                                                                                           10 non-null     int64  \n",
      " 18  Lâminas Petrográficas                                                                                            10 non-null     int64  \n",
      " 19  Seções Polidas                                                                                                   10 non-null     int64  \n",
      " 20  Cadernetas de Campo                                                                                              10 non-null     int64  \n",
      " 21  Foi inserido documento Externo do tipo Anexo no processo com a relação de materiais e/ou exemplares geológicos.  10 non-null     bool   \n",
      "dtypes: bool(1), float64(1), int64(10), object(10)\n",
      "memory usage: 1.7+ KB\n"
     ]
    }
   ],
   "source": [
    "rame = parse_csv_results(documentos_rame)\n",
    "rame.info()"
   ]
  },
  {
   "cell_type": "code",
   "execution_count": 6,
   "metadata": {},
   "outputs": [
    {
     "data": {
      "text/html": [
       "<div>\n",
       "<style scoped>\n",
       "    .dataframe tbody tr th:only-of-type {\n",
       "        vertical-align: middle;\n",
       "    }\n",
       "\n",
       "    .dataframe tbody tr th {\n",
       "        vertical-align: top;\n",
       "    }\n",
       "\n",
       "    .dataframe thead th {\n",
       "        text-align: right;\n",
       "    }\n",
       "</style>\n",
       "<table border=\"1\" class=\"dataframe\">\n",
       "  <thead>\n",
       "    <tr style=\"text-align: right;\">\n",
       "      <th></th>\n",
       "      <th>Nome do(a) Solicitante</th>\n",
       "      <th>Unidade</th>\n",
       "      <th>E-mail</th>\n",
       "      <th>Telefone (com DDD)</th>\n",
       "      <th>Ano do Projeto</th>\n",
       "      <th>Nome do Projeto</th>\n",
       "      <th>Unidade Executora</th>\n",
       "      <th>Centro de Custo do Projeto</th>\n",
       "      <th>Número do SGP</th>\n",
       "      <th>Requisição de Análise (RA)</th>\n",
       "      <th>...</th>\n",
       "      <th>Alíquotas Geoquímicas</th>\n",
       "      <th>Rochas</th>\n",
       "      <th>Testemunhos de Sondagem (quantidade total dos intervalos em metros)</th>\n",
       "      <th>Solos</th>\n",
       "      <th>Sedimentos de Corrente</th>\n",
       "      <th>Concentrados de Batéia</th>\n",
       "      <th>Lâminas Petrográficas</th>\n",
       "      <th>Seções Polidas</th>\n",
       "      <th>Cadernetas de Campo</th>\n",
       "      <th>Foi inserido documento Externo do tipo Anexo no processo com a relação de materiais e/ou exemplares geológicos.</th>\n",
       "    </tr>\n",
       "  </thead>\n",
       "  <tbody>\n",
       "    <tr>\n",
       "      <th>0</th>\n",
       "      <td>Isabel Matos</td>\n",
       "      <td>Superintendência Regional de Salvador (SUREG-SA)</td>\n",
       "      <td>isabel.matos@sgb.gov.br</td>\n",
       "      <td>(71)02101-7309</td>\n",
       "      <td>2015</td>\n",
       "      <td>2 cadernetas: Projeto CHOMA (Chorrochó-Macurur...</td>\n",
       "      <td>GEREMI</td>\n",
       "      <td>4316400</td>\n",
       "      <td>-</td>\n",
       "      <td>-</td>\n",
       "      <td>...</td>\n",
       "      <td>0</td>\n",
       "      <td>0</td>\n",
       "      <td>0.0</td>\n",
       "      <td>0</td>\n",
       "      <td>0</td>\n",
       "      <td>0</td>\n",
       "      <td>0</td>\n",
       "      <td>0</td>\n",
       "      <td>2</td>\n",
       "      <td>False</td>\n",
       "    </tr>\n",
       "    <tr>\n",
       "      <th>0</th>\n",
       "      <td>Isabel Matos</td>\n",
       "      <td>Superintendência Regional de Salvador (SUREG-SA)</td>\n",
       "      <td>isabel.matos@sgb.gov.br</td>\n",
       "      <td>(71)02101-7309</td>\n",
       "      <td>2009</td>\n",
       "      <td>1 caderneta de Geoquímica: Projeto Fosfato Bra...</td>\n",
       "      <td>GEREMI</td>\n",
       "      <td>4068</td>\n",
       "      <td>-</td>\n",
       "      <td>-</td>\n",
       "      <td>...</td>\n",
       "      <td>0</td>\n",
       "      <td>0</td>\n",
       "      <td>0.0</td>\n",
       "      <td>0</td>\n",
       "      <td>0</td>\n",
       "      <td>0</td>\n",
       "      <td>0</td>\n",
       "      <td>0</td>\n",
       "      <td>1</td>\n",
       "      <td>False</td>\n",
       "    </tr>\n",
       "    <tr>\n",
       "      <th>0</th>\n",
       "      <td>Isabel Matos</td>\n",
       "      <td>Superintendência Regional de Salvador (SUREG-SA)</td>\n",
       "      <td>isabel.matos@sgb.gov.br</td>\n",
       "      <td>(71)02101-7309</td>\n",
       "      <td>2010</td>\n",
       "      <td>Projeto Fosfato Brasil - I (vermiculita) e II ...</td>\n",
       "      <td>GEREMI</td>\n",
       "      <td>4102</td>\n",
       "      <td>-</td>\n",
       "      <td>-</td>\n",
       "      <td>...</td>\n",
       "      <td>0</td>\n",
       "      <td>0</td>\n",
       "      <td>0.0</td>\n",
       "      <td>0</td>\n",
       "      <td>0</td>\n",
       "      <td>0</td>\n",
       "      <td>0</td>\n",
       "      <td>0</td>\n",
       "      <td>3</td>\n",
       "      <td>False</td>\n",
       "    </tr>\n",
       "    <tr>\n",
       "      <th>0</th>\n",
       "      <td>Isabel Matos</td>\n",
       "      <td>Superintendência Regional de Salvador (SUREG-SA)</td>\n",
       "      <td>isabel.matos@sgb.gov.br</td>\n",
       "      <td>(71)02101-7309</td>\n",
       "      <td>2009</td>\n",
       "      <td>Projeto PUMA (Uauá-Monte Santo) - Puma I. II. ...</td>\n",
       "      <td>GEREMI</td>\n",
       "      <td>4068</td>\n",
       "      <td>-</td>\n",
       "      <td>-</td>\n",
       "      <td>...</td>\n",
       "      <td>0</td>\n",
       "      <td>0</td>\n",
       "      <td>0.0</td>\n",
       "      <td>0</td>\n",
       "      <td>0</td>\n",
       "      <td>0</td>\n",
       "      <td>0</td>\n",
       "      <td>0</td>\n",
       "      <td>5</td>\n",
       "      <td>False</td>\n",
       "    </tr>\n",
       "    <tr>\n",
       "      <th>0</th>\n",
       "      <td>Djalma Hartery</td>\n",
       "      <td>Superintendência Regional de Belém (SUREG-BE)</td>\n",
       "      <td>djalma.hartery@sgb.gov.br</td>\n",
       "      <td>(91)98184-9100</td>\n",
       "      <td>2001</td>\n",
       "      <td>Projeto RENCA</td>\n",
       "      <td>SUREG BE</td>\n",
       "      <td>2001300</td>\n",
       "      <td>-</td>\n",
       "      <td>-</td>\n",
       "      <td>...</td>\n",
       "      <td>0</td>\n",
       "      <td>0</td>\n",
       "      <td>0.0</td>\n",
       "      <td>0</td>\n",
       "      <td>0</td>\n",
       "      <td>0</td>\n",
       "      <td>402</td>\n",
       "      <td>0</td>\n",
       "      <td>0</td>\n",
       "      <td>True</td>\n",
       "    </tr>\n",
       "    <tr>\n",
       "      <th>0</th>\n",
       "      <td>ANDRE LUIS INVERNIZZI</td>\n",
       "      <td>Escritório do Rio de Janeiro (ERJ)</td>\n",
       "      <td>andreinvernizzi@gmail.com</td>\n",
       "      <td>(00)00000-0000</td>\n",
       "      <td>2020</td>\n",
       "      <td>Baixio</td>\n",
       "      <td>Digate</td>\n",
       "      <td>4452</td>\n",
       "      <td>-</td>\n",
       "      <td>-</td>\n",
       "      <td>...</td>\n",
       "      <td>0</td>\n",
       "      <td>0</td>\n",
       "      <td>0.0</td>\n",
       "      <td>159</td>\n",
       "      <td>0</td>\n",
       "      <td>0</td>\n",
       "      <td>0</td>\n",
       "      <td>0</td>\n",
       "      <td>0</td>\n",
       "      <td>True</td>\n",
       "    </tr>\n",
       "    <tr>\n",
       "      <th>0</th>\n",
       "      <td>ANDRE LUIS INVERNIZZI</td>\n",
       "      <td>Escritório do Rio de Janeiro (ERJ)</td>\n",
       "      <td>andreinvernizzi@gmail.com</td>\n",
       "      <td>(21)99973-7097</td>\n",
       "      <td>2020</td>\n",
       "      <td>Munin</td>\n",
       "      <td>Digate</td>\n",
       "      <td>4452</td>\n",
       "      <td>-</td>\n",
       "      <td>-</td>\n",
       "      <td>...</td>\n",
       "      <td>0</td>\n",
       "      <td>0</td>\n",
       "      <td>0.0</td>\n",
       "      <td>92</td>\n",
       "      <td>24</td>\n",
       "      <td>0</td>\n",
       "      <td>0</td>\n",
       "      <td>0</td>\n",
       "      <td>0</td>\n",
       "      <td>True</td>\n",
       "    </tr>\n",
       "    <tr>\n",
       "      <th>0</th>\n",
       "      <td>ANTONIA RAILINE DA COSTA SILVA</td>\n",
       "      <td>Superintendência Regional de Belém (SUREG-BE)</td>\n",
       "      <td>antonia.costa@sgb.gov.br</td>\n",
       "      <td>(91)98824-6065</td>\n",
       "      <td>2021</td>\n",
       "      <td>GEOLOGIA. RECURSOS MINERAIS E ARQUITETURA CRUS...</td>\n",
       "      <td>GEREMI-BE</td>\n",
       "      <td>4447087</td>\n",
       "      <td>-</td>\n",
       "      <td>-</td>\n",
       "      <td>...</td>\n",
       "      <td>0</td>\n",
       "      <td>82</td>\n",
       "      <td>41.0</td>\n",
       "      <td>0</td>\n",
       "      <td>0</td>\n",
       "      <td>0</td>\n",
       "      <td>0</td>\n",
       "      <td>0</td>\n",
       "      <td>0</td>\n",
       "      <td>False</td>\n",
       "    </tr>\n",
       "    <tr>\n",
       "      <th>0</th>\n",
       "      <td>CESAR LISBOA CHAVES</td>\n",
       "      <td>Superintendência Regional de Belém (SUREG-BE)</td>\n",
       "      <td>cesar.chaves@sgb.gov.br</td>\n",
       "      <td>(91)98157-5522</td>\n",
       "      <td>2004</td>\n",
       "      <td>GEOLOGIA E RECURSOS MINERAIS DA FOLHA CANDIDO ...</td>\n",
       "      <td>SUREG-BE</td>\n",
       "      <td>4140</td>\n",
       "      <td>-</td>\n",
       "      <td>-</td>\n",
       "      <td>...</td>\n",
       "      <td>0</td>\n",
       "      <td>0</td>\n",
       "      <td>0.0</td>\n",
       "      <td>0</td>\n",
       "      <td>0</td>\n",
       "      <td>0</td>\n",
       "      <td>47</td>\n",
       "      <td>0</td>\n",
       "      <td>0</td>\n",
       "      <td>True</td>\n",
       "    </tr>\n",
       "    <tr>\n",
       "      <th>0</th>\n",
       "      <td>CESAR LISBOA CHAVES</td>\n",
       "      <td>Superintendência Regional de Belém (SUREG-BE)</td>\n",
       "      <td>cesar.chaves@sgb.gov.br</td>\n",
       "      <td>(91)98157-5522</td>\n",
       "      <td>2013</td>\n",
       "      <td>FOSFATO BRASIL</td>\n",
       "      <td>SUREG-BE</td>\n",
       "      <td>4068</td>\n",
       "      <td>-</td>\n",
       "      <td>-</td>\n",
       "      <td>...</td>\n",
       "      <td>0</td>\n",
       "      <td>0</td>\n",
       "      <td>0.0</td>\n",
       "      <td>0</td>\n",
       "      <td>0</td>\n",
       "      <td>0</td>\n",
       "      <td>49</td>\n",
       "      <td>0</td>\n",
       "      <td>0</td>\n",
       "      <td>True</td>\n",
       "    </tr>\n",
       "  </tbody>\n",
       "</table>\n",
       "<p>10 rows × 22 columns</p>\n",
       "</div>"
      ],
      "text/plain": [
       "           Nome do(a) Solicitante  \\\n",
       "0                    Isabel Matos   \n",
       "0                    Isabel Matos   \n",
       "0                    Isabel Matos   \n",
       "0                    Isabel Matos   \n",
       "0                  Djalma Hartery   \n",
       "0           ANDRE LUIS INVERNIZZI   \n",
       "0           ANDRE LUIS INVERNIZZI   \n",
       "0  ANTONIA RAILINE DA COSTA SILVA   \n",
       "0             CESAR LISBOA CHAVES   \n",
       "0             CESAR LISBOA CHAVES   \n",
       "\n",
       "                                            Unidade  \\\n",
       "0  Superintendência Regional de Salvador (SUREG-SA)   \n",
       "0  Superintendência Regional de Salvador (SUREG-SA)   \n",
       "0  Superintendência Regional de Salvador (SUREG-SA)   \n",
       "0  Superintendência Regional de Salvador (SUREG-SA)   \n",
       "0     Superintendência Regional de Belém (SUREG-BE)   \n",
       "0                Escritório do Rio de Janeiro (ERJ)   \n",
       "0                Escritório do Rio de Janeiro (ERJ)   \n",
       "0     Superintendência Regional de Belém (SUREG-BE)   \n",
       "0     Superintendência Regional de Belém (SUREG-BE)   \n",
       "0     Superintendência Regional de Belém (SUREG-BE)   \n",
       "\n",
       "                      E-mail Telefone (com DDD)  Ano do Projeto  \\\n",
       "0    isabel.matos@sgb.gov.br     (71)02101-7309            2015   \n",
       "0    isabel.matos@sgb.gov.br     (71)02101-7309            2009   \n",
       "0    isabel.matos@sgb.gov.br     (71)02101-7309            2010   \n",
       "0    isabel.matos@sgb.gov.br     (71)02101-7309            2009   \n",
       "0  djalma.hartery@sgb.gov.br     (91)98184-9100            2001   \n",
       "0  andreinvernizzi@gmail.com     (00)00000-0000            2020   \n",
       "0  andreinvernizzi@gmail.com     (21)99973-7097            2020   \n",
       "0   antonia.costa@sgb.gov.br     (91)98824-6065            2021   \n",
       "0    cesar.chaves@sgb.gov.br     (91)98157-5522            2004   \n",
       "0    cesar.chaves@sgb.gov.br     (91)98157-5522            2013   \n",
       "\n",
       "                                     Nome do Projeto Unidade Executora  \\\n",
       "0  2 cadernetas: Projeto CHOMA (Chorrochó-Macurur...            GEREMI   \n",
       "0  1 caderneta de Geoquímica: Projeto Fosfato Bra...            GEREMI   \n",
       "0  Projeto Fosfato Brasil - I (vermiculita) e II ...            GEREMI   \n",
       "0  Projeto PUMA (Uauá-Monte Santo) - Puma I. II. ...            GEREMI   \n",
       "0                                      Projeto RENCA          SUREG BE   \n",
       "0                                             Baixio            Digate   \n",
       "0                                              Munin            Digate   \n",
       "0  GEOLOGIA. RECURSOS MINERAIS E ARQUITETURA CRUS...         GEREMI-BE   \n",
       "0  GEOLOGIA E RECURSOS MINERAIS DA FOLHA CANDIDO ...          SUREG-BE   \n",
       "0                                     FOSFATO BRASIL          SUREG-BE   \n",
       "\n",
       "   Centro de Custo do Projeto Número do SGP Requisição de Análise (RA)  ...  \\\n",
       "0                     4316400             -                          -  ...   \n",
       "0                        4068             -                          -  ...   \n",
       "0                        4102             -                          -  ...   \n",
       "0                        4068             -                          -  ...   \n",
       "0                     2001300             -                          -  ...   \n",
       "0                        4452             -                          -  ...   \n",
       "0                        4452             -                          -  ...   \n",
       "0                     4447087             -                          -  ...   \n",
       "0                        4140             -                          -  ...   \n",
       "0                        4068             -                          -  ...   \n",
       "\n",
       "  Alíquotas Geoquímicas Rochas  \\\n",
       "0                     0      0   \n",
       "0                     0      0   \n",
       "0                     0      0   \n",
       "0                     0      0   \n",
       "0                     0      0   \n",
       "0                     0      0   \n",
       "0                     0      0   \n",
       "0                     0     82   \n",
       "0                     0      0   \n",
       "0                     0      0   \n",
       "\n",
       "   Testemunhos de Sondagem (quantidade total dos intervalos em metros)  Solos  \\\n",
       "0                                                0.0                        0   \n",
       "0                                                0.0                        0   \n",
       "0                                                0.0                        0   \n",
       "0                                                0.0                        0   \n",
       "0                                                0.0                        0   \n",
       "0                                                0.0                      159   \n",
       "0                                                0.0                       92   \n",
       "0                                               41.0                        0   \n",
       "0                                                0.0                        0   \n",
       "0                                                0.0                        0   \n",
       "\n",
       "   Sedimentos de Corrente  Concentrados de Batéia  Lâminas Petrográficas  \\\n",
       "0                       0                       0                      0   \n",
       "0                       0                       0                      0   \n",
       "0                       0                       0                      0   \n",
       "0                       0                       0                      0   \n",
       "0                       0                       0                    402   \n",
       "0                       0                       0                      0   \n",
       "0                      24                       0                      0   \n",
       "0                       0                       0                      0   \n",
       "0                       0                       0                     47   \n",
       "0                       0                       0                     49   \n",
       "\n",
       "   Seções Polidas  Cadernetas de Campo  \\\n",
       "0               0                    2   \n",
       "0               0                    1   \n",
       "0               0                    3   \n",
       "0               0                    5   \n",
       "0               0                    0   \n",
       "0               0                    0   \n",
       "0               0                    0   \n",
       "0               0                    0   \n",
       "0               0                    0   \n",
       "0               0                    0   \n",
       "\n",
       "   Foi inserido documento Externo do tipo Anexo no processo com a relação de materiais e/ou exemplares geológicos.  \n",
       "0                                              False                                                                \n",
       "0                                              False                                                                \n",
       "0                                              False                                                                \n",
       "0                                              False                                                                \n",
       "0                                               True                                                                \n",
       "0                                               True                                                                \n",
       "0                                               True                                                                \n",
       "0                                              False                                                                \n",
       "0                                               True                                                                \n",
       "0                                               True                                                                \n",
       "\n",
       "[10 rows x 22 columns]"
      ]
     },
     "execution_count": 6,
     "metadata": {},
     "output_type": "execute_result"
    }
   ],
   "source": [
    "rame.to_csv('rame.csv')\n",
    "rame"
   ]
  }
 ],
 "metadata": {
  "kernelspec": {
   "display_name": ".venv",
   "language": "python",
   "name": "python3"
  },
  "language_info": {
   "codemirror_mode": {
    "name": "ipython",
    "version": 3
   },
   "file_extension": ".py",
   "mimetype": "text/x-python",
   "name": "python",
   "nbconvert_exporter": "python",
   "pygments_lexer": "ipython3",
   "version": "3.11.6"
  }
 },
 "nbformat": 4,
 "nbformat_minor": 2
}
